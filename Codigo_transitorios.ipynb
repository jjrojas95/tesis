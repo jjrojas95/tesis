{
  "nbformat": 4,
  "nbformat_minor": 0,
  "metadata": {
    "colab": {
      "name": "Codigo_transitorios.ipynb",
      "provenance": [],
      "toc_visible": true,
      "authorship_tag": "ABX9TyNvnkb4ClZ64VPU2Teb2+oP",
      "include_colab_link": true
    },
    "kernelspec": {
      "name": "python3",
      "display_name": "Python 3"
    }
  },
  "cells": [
    {
      "cell_type": "markdown",
      "metadata": {
        "id": "view-in-github",
        "colab_type": "text"
      },
      "source": [
        "<a href=\"https://colab.research.google.com/github/jjrojas95/tesis/blob/master/Codigo_transitorios.ipynb\" target=\"_parent\"><img src=\"https://colab.research.google.com/assets/colab-badge.svg\" alt=\"Open In Colab\"/></a>"
      ]
    },
    {
      "cell_type": "code",
      "metadata": {
        "id": "jlCWeWrOuV_l",
        "colab_type": "code",
        "colab": {}
      },
      "source": [
        "import pandas as pd\n",
        "import numpy as np\n",
        "\n",
        "class Network:\n",
        "  def __init__(self, name='', df_lines=None, df_lump_params = None, df_gens = None):\n",
        "    self.name = name\n",
        "    self.__col_name_lines= ['name', 'first_node', 'to_node','length', 'characteristic_impedance','propagation']\n",
        "    self.__col_name_lump_params= ['name', 'first_node', 'to_node','type', 'value','init_conditions']\n",
        "    self.__col_name_gens= ['name', 'first_node', 'to_node', 'imp_subsync', 'func']\n",
        "    if type(df_lines) == pd.DataFrame:\n",
        "      self.df_lines = df_lines\n",
        "    else:\n",
        "      self.df_lines = pd.DataFrame(columns=self.__col_name_lines)\n",
        "    if type(df_lump_params) == pd.DataFrame:\n",
        "      self.df_lump_params = df_lump_params\n",
        "    else:\n",
        "      self.df_lump_params = pd.DataFrame(columns=self.__col_name_lines)\n",
        "    if type(df_gens) == pd.DataFrame:\n",
        "      self.df_gens = df_gens\n",
        "    else:\n",
        "      self.df_gens = pd.DataFrame(columns=self.__col_name_gens)"
      ],
      "execution_count": 0,
      "outputs": []
    },
    {
      "cell_type": "code",
      "metadata": {
        "id": "lFtjRZ1i9QJk",
        "colab_type": "code",
        "colab": {}
      },
      "source": [
        "net = Network(name = 'prueba1')"
      ],
      "execution_count": 0,
      "outputs": []
    },
    {
      "cell_type": "code",
      "metadata": {
        "id": "wo4Wc1QV-DwY",
        "colab_type": "code",
        "outputId": "901ad29a-11c0-4878-e327-34a3c76b29cd",
        "colab": {
          "base_uri": "https://localhost:8080/",
          "height": 47
        }
      },
      "source": [
        "net.df_gens.head()"
      ],
      "execution_count": 0,
      "outputs": [
        {
          "output_type": "execute_result",
          "data": {
            "text/html": [
              "<div>\n",
              "<style scoped>\n",
              "    .dataframe tbody tr th:only-of-type {\n",
              "        vertical-align: middle;\n",
              "    }\n",
              "\n",
              "    .dataframe tbody tr th {\n",
              "        vertical-align: top;\n",
              "    }\n",
              "\n",
              "    .dataframe thead th {\n",
              "        text-align: right;\n",
              "    }\n",
              "</style>\n",
              "<table border=\"1\" class=\"dataframe\">\n",
              "  <thead>\n",
              "    <tr style=\"text-align: right;\">\n",
              "      <th></th>\n",
              "      <th>name</th>\n",
              "      <th>first_node</th>\n",
              "      <th>to_node</th>\n",
              "      <th>imp_subsync</th>\n",
              "      <th>func</th>\n",
              "    </tr>\n",
              "  </thead>\n",
              "  <tbody>\n",
              "  </tbody>\n",
              "</table>\n",
              "</div>"
            ],
            "text/plain": [
              "Empty DataFrame\n",
              "Columns: [name, first_node, to_node, imp_subsync, func]\n",
              "Index: []"
            ]
          },
          "metadata": {
            "tags": []
          },
          "execution_count": 8
        }
      ]
    },
    {
      "cell_type": "code",
      "metadata": {
        "id": "Di1gT8Tv-P_j",
        "colab_type": "code",
        "colab": {}
      },
      "source": [
        ""
      ],
      "execution_count": 0,
      "outputs": []
    }
  ]
}