{
  "nbformat": 4,
  "nbformat_minor": 0,
  "metadata": {
    "colab": {
      "name": "Codigo_transitorios.ipynb",
      "provenance": [],
      "toc_visible": true,
      "authorship_tag": "ABX9TyOOAFwuNhGfUsPwteR6mPZ6",
      "include_colab_link": true
    },
    "kernelspec": {
      "name": "python3",
      "display_name": "Python 3"
    }
  },
  "cells": [
    {
      "cell_type": "markdown",
      "metadata": {
        "id": "view-in-github",
        "colab_type": "text"
      },
      "source": [
        "<a href=\"https://colab.research.google.com/github/jjrojas95/tesis/blob/master/Codigo_transitorios.ipynb\" target=\"_parent\"><img src=\"https://colab.research.google.com/assets/colab-badge.svg\" alt=\"Open In Colab\"/></a>"
      ]
    },
    {
      "cell_type": "code",
      "metadata": {
        "id": "jlCWeWrOuV_l",
        "colab_type": "code",
        "colab": {}
      },
      "source": [
        "import pandas as pd\n",
        "import numpy as np\n",
        "\n",
        "class Network:\n",
        "  \"\"\"\n",
        "  Esta clase sera de utilidad para construir nuestras redes para poder hacer análisis \n",
        "  posteriores\n",
        "\n",
        "  ENTRADAS:\n",
        "  name : Es el nombre de la red\n",
        "\n",
        "  df_lines : es el dataframe correspondiente a las lineas con las siguientes columnas:\n",
        "  name,first_node,to_node,length,characteristic_impedance,propagation\n",
        "  Nombre de la red, un extremo de nodo, el otro nodo extremo, longitud de la línea en metros,  Impeancia característica en Ohms, propagación en km/s\n",
        "  \n",
        "  df_lump_params : es el dataframe correspondiente a los parámetros concentrados \n",
        "  con las siguientes columnas:\n",
        "  name,first_node,to_node,lump_type,value,init_conditions\n",
        "  Nombre del parametro concentrado, un extremo del nodo, el otro nodo extremo, \n",
        "  Tipo de Parámetros concentrado (Capacitancia, Resistencia, Inductor), Valor del parametro en (microFarads, miliHenry o Ohms),\n",
        "  Condiciones iniciales(Volts para capacitor o Ampere para Inductor)\n",
        "\n",
        "  df_gens : es el dataframe correspondiente a los generadores con las siguientes columnas:\n",
        "  name,first_node,to_node,imp_subsync,func\n",
        "  Nombre del generador o fuente, Un extremo del nodo, el otro nodo extremo, Impedacia transitoria, función de generador(una customizada, un seno, escalón)\n",
        "  \"\"\"\n",
        "\n",
        "  def __init__(self, name='', df_lines=None, df_lump_params = None, df_gens = None):\n",
        "    self.name = name\n",
        "    self.__col_name_lines = ['name', 'first_node', 'to_node','length', 'characteristic_impedance','propagation']\n",
        "    self.__col_lines_types = ['object', 'int64', 'int64','float64', 'float64','float64']\n",
        "    self.__col_name_lump_params = ['name', 'first_node', 'to_node','lump_type', 'value','init_conditions']\n",
        "    self.__col_lump_params_types = ['object', 'int64', 'int64', 'object', 'float64','float64']\n",
        "    self.__col_name_gens = ['name', 'first_node', 'to_node', 'imp_Trasient', 'func']\n",
        "    self.__col_gens_types = ['object', 'int64', 'int64', 'float64', 'object']\n",
        "    \n",
        "    if type(df_lines) == pd.DataFrame:\n",
        "      self.df_lines = df_lines\n",
        "    else:\n",
        "      self.df_lines = pd.DataFrame(columns=self.__col_name_lines)\n",
        "    if type(df_lump_params) == pd.DataFrame:\n",
        "      self.df_lump_params = df_lump_params\n",
        "    else:\n",
        "      self.df_lump_params = pd.DataFrame(columns=self.__col_name_lump_params)\n",
        "    if type(df_gens) == pd.DataFrame:\n",
        "      self.df_gens = df_gens\n",
        "    else:\n",
        "      self.df_gens = pd.DataFrame(columns=self.__col_name_gens)\n",
        "    \n",
        "    for col_name, col_type in zip(self.__col_name_lines, self.__col_lines_types):\n",
        "      self.df_lines[col_name] = self.df_lines[col_name].astype(col_type)\n",
        "    for col_name, col_type in zip(self.__col_name_lump_params, self.__col_lump_params_types):\n",
        "      self.df_lump_params[col_name] = self.df_lump_params[col_name].astype(col_type)\n",
        "    for col_name, col_type in zip(self.__col_name_gens, self.__col_gens_types):\n",
        "      self.df_gens[col_name] = self.df_gens[col_name].astype(col_type)"
      ],
      "execution_count": 0,
      "outputs": []
    },
    {
      "cell_type": "code",
      "metadata": {
        "id": "lFtjRZ1i9QJk",
        "colab_type": "code",
        "colab": {}
      },
      "source": [
        "net = Network(name = 'prueba1')"
      ],
      "execution_count": 0,
      "outputs": []
    },
    {
      "cell_type": "code",
      "metadata": {
        "id": "wo4Wc1QV-DwY",
        "colab_type": "code",
        "outputId": "abbbb8be-8a0d-41fb-a7fb-2b465634f33e",
        "colab": {
          "base_uri": "https://localhost:8080/",
          "height": 47
        }
      },
      "source": [
        "net.df_lump_params"
      ],
      "execution_count": 19,
      "outputs": [
        {
          "output_type": "execute_result",
          "data": {
            "text/html": [
              "<div>\n",
              "<style scoped>\n",
              "    .dataframe tbody tr th:only-of-type {\n",
              "        vertical-align: middle;\n",
              "    }\n",
              "\n",
              "    .dataframe tbody tr th {\n",
              "        vertical-align: top;\n",
              "    }\n",
              "\n",
              "    .dataframe thead th {\n",
              "        text-align: right;\n",
              "    }\n",
              "</style>\n",
              "<table border=\"1\" class=\"dataframe\">\n",
              "  <thead>\n",
              "    <tr style=\"text-align: right;\">\n",
              "      <th></th>\n",
              "      <th>name</th>\n",
              "      <th>first_node</th>\n",
              "      <th>to_node</th>\n",
              "      <th>lump_type</th>\n",
              "      <th>value</th>\n",
              "      <th>init_conditions</th>\n",
              "    </tr>\n",
              "  </thead>\n",
              "  <tbody>\n",
              "  </tbody>\n",
              "</table>\n",
              "</div>"
            ],
            "text/plain": [
              "Empty DataFrame\n",
              "Columns: [name, first_node, to_node, lump_type, value, init_conditions]\n",
              "Index: []"
            ]
          },
          "metadata": {
            "tags": []
          },
          "execution_count": 19
        }
      ]
    },
    {
      "cell_type": "code",
      "metadata": {
        "id": "Di1gT8Tv-P_j",
        "colab_type": "code",
        "colab": {}
      },
      "source": [
        ""
      ],
      "execution_count": 0,
      "outputs": []
    }
  ]
}